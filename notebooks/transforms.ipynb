{
 "cells": [
  {
   "cell_type": "code",
   "execution_count": 1,
   "id": "initial_id",
   "metadata": {
    "collapsed": true,
    "ExecuteTime": {
     "end_time": "2024-01-01T23:29:47.688081Z",
     "start_time": "2024-01-01T23:29:46.875525Z"
    }
   },
   "outputs": [],
   "source": [
    "import torch\n",
    "\n",
    "from yeji.features import EulerAngles"
   ]
  },
  {
   "cell_type": "code",
   "execution_count": null,
   "outputs": [],
   "source": [],
   "metadata": {
    "collapsed": false
   },
   "id": "49a764124425e605"
  },
  {
   "cell_type": "code",
   "execution_count": 8,
   "outputs": [
    {
     "data": {
      "text/plain": "EulerAngles([[90., 45., 30.]], axes=zyx, degrees=True)"
     },
     "execution_count": 8,
     "metadata": {},
     "output_type": "execute_result"
    }
   ],
   "source": [
    "euler_angles = EulerAngles(\n",
    "    torch.tensor([[90.0, 45.0, 30.0]]), \n",
    "    axes=\"zyx\", \n",
    "    degrees=True,\n",
    ")\n",
    "\n",
    "euler_angles"
   ],
   "metadata": {
    "collapsed": false,
    "ExecuteTime": {
     "end_time": "2024-01-01T23:31:04.470351Z",
     "start_time": "2024-01-01T23:31:04.462959Z"
    }
   },
   "id": "5192602a1f2910f4"
  },
  {
   "cell_type": "code",
   "execution_count": 9,
   "outputs": [
    {
     "data": {
      "text/plain": "RotationVector([[0.0000, 0.0000, 1.5708]], degrees=False)"
     },
     "execution_count": 9,
     "metadata": {},
     "output_type": "execute_result"
    }
   ],
   "source": [],
   "metadata": {
    "collapsed": false,
    "ExecuteTime": {
     "end_time": "2024-01-01T23:19:36.530655Z",
     "start_time": "2024-01-01T23:19:36.526339Z"
    }
   },
   "id": "98501887d424eb9e"
  },
  {
   "cell_type": "code",
   "execution_count": 20,
   "outputs": [
    {
     "data": {
      "text/plain": "array([0.        , 0.        , 1.57079633])"
     },
     "execution_count": 20,
     "metadata": {},
     "output_type": "execute_result"
    }
   ],
   "source": [
    "from scipy.spatial.transform import Rotation\n",
    "import numpy\n",
    "\n",
    "Rotation.from_rotvec(numpy.pi / 2.0 * numpy.array([0.0, 0.0, 1.0])).as_rotvec()"
   ],
   "metadata": {
    "collapsed": false,
    "ExecuteTime": {
     "end_time": "2024-01-01T23:21:44.069517Z",
     "start_time": "2024-01-01T23:21:44.065924Z"
    }
   },
   "id": "f582205c2cd37e77"
  },
  {
   "cell_type": "code",
   "execution_count": 19,
   "outputs": [],
   "source": [
    "import numpy\n",
    "\n",
    "def validate_input(input):\n",
    "    # Check if angles is a single float value\n",
    "    if isinstance(input, float):\n",
    "        return True\n",
    "\n",
    "    # Check if angles is array-like\n",
    "    if not isinstance(input, (list, numpy.ndarray)):\n",
    "        return False\n",
    "\n",
    "    # Convert to NumPy array for easier shape manipulation\n",
    "    angles = numpy.array(input)  \n",
    "\n",
    "    # Check the shape of the angles array\n",
    "    if angles.ndim == 1:\n",
    "        # Shape (N,) or (W,) - \n",
    "        # valid for both single and multiple character seq\n",
    "        return True\n",
    "    \n",
    "    if angles.ndim == 2:\n",
    "        return angles.shape[1] in [1, 2, 3]\n",
    "\n",
    "    return False"
   ],
   "metadata": {
    "collapsed": false,
    "ExecuteTime": {
     "end_time": "2024-01-01T23:38:00.626267Z",
     "start_time": "2024-01-01T23:38:00.621670Z"
    }
   },
   "id": "b562d65991e04996"
  },
  {
   "cell_type": "code",
   "execution_count": 18,
   "outputs": [
    {
     "name": "stdout",
     "output_type": "stream",
     "text": [
      "Is valid: True\n"
     ]
    }
   ],
   "source": [
    "angles_example = [0.5, 0.7, 1.2]  # Replace this with the actual input\n",
    "seq_width = 2  # Set this based on the seq width, if applicable\n",
    "is_valid = validate_input(angles_example, seq_width)\n",
    "print(\"Is valid:\", is_valid)"
   ],
   "metadata": {
    "collapsed": false,
    "ExecuteTime": {
     "end_time": "2024-01-01T23:37:41.733156Z",
     "start_time": "2024-01-01T23:37:41.731346Z"
    }
   },
   "id": "379757ac4b6d342b"
  },
  {
   "cell_type": "code",
   "execution_count": null,
   "outputs": [],
   "source": [],
   "metadata": {
    "collapsed": false
   },
   "id": "157603e9656a6ba2"
  }
 ],
 "metadata": {
  "kernelspec": {
   "display_name": "Python 3",
   "language": "python",
   "name": "python3"
  },
  "language_info": {
   "codemirror_mode": {
    "name": "ipython",
    "version": 2
   },
   "file_extension": ".py",
   "mimetype": "text/x-python",
   "name": "python",
   "nbconvert_exporter": "python",
   "pygments_lexer": "ipython2",
   "version": "2.7.6"
  }
 },
 "nbformat": 4,
 "nbformat_minor": 5
}
